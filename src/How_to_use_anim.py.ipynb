{
 "cells": [
  {
   "cell_type": "code",
   "execution_count": 1,
   "metadata": {},
   "outputs": [],
   "source": [
    "import anim"
   ]
  },
  {
   "cell_type": "markdown",
   "metadata": {},
   "source": [
    "### Basic\n",
    "\n",
    "These are the functions that the bot uses. You can tweak this if you want it to run somewhere else."
   ]
  },
  {
   "cell_type": "code",
   "execution_count": 2,
   "metadata": {},
   "outputs": [],
   "source": [
    "# mocks PRAW objects\n",
    "class MockRedditAuthor:\n",
    "    \n",
    "    def __init__(self, name):\n",
    "        self.name = name\n",
    "\n",
    "class MockRedditComment:\n",
    "    \n",
    "    def __init__(self, username: str, text: str, score: int = 0):\n",
    "        self.author = MockRedditAuthor(username)\n",
    "        self.body = text\n",
    "        self.score = score"
   ]
  },
  {
   "cell_type": "code",
   "execution_count": 3,
   "metadata": {},
   "outputs": [],
   "source": [
    "most_common = ['a', 'b', 'c'] # usernames in order of freq\n",
    "characters = anim.get_characters(most_common) # returns a dict where key = character, val = username\n",
    "comments = [\n",
    "    MockRedditComment('a', 'Hello as I am the most common I will be Phoenix'),\n",
    "    MockRedditComment('b', 'wassup I\\'m edgyboy'),\n",
    "    MockRedditComment('c', 'I\\'m someone random and I\\'m angry', score=-1)\n",
    "]\n",
    "anim.comments_to_scene(comments, characters, output_filename=\"hello.mp4\")"
   ]
  },
  {
   "cell_type": "markdown",
   "metadata": {},
   "source": [
    "### Custom"
   ]
  },
  {
   "cell_type": "code",
   "execution_count": 4,
   "metadata": {},
   "outputs": [],
   "source": [
    "scene = [\n",
    "    {\n",
    "        \"location\": anim.Location.JUDGE_STAND,\n",
    "        \"audio\": \"03 - Turnabout Courtroom - Trial\",\n",
    "        \"scene\": [\n",
    "            {\n",
    "                \"character\": anim.Character.JUDGE,\n",
    "            },\n",
    "            {\n",
    "                \"action\": anim.Action.TEXT,\n",
    "                \"text\": \"Yo yo all this be a custom scene\"\n",
    "            },\n",
    "            {\n",
    "                \"action\": anim.Action.TEXT,\n",
    "                \"text\": \"Pheonix is guilty of murder.\"\n",
    "            },\n",
    "        ]\n",
    "    },\n",
    "    {\n",
    "        \"location\": anim.Location.COURTROOM_RIGHT,\n",
    "        \"scene\": [\n",
    "            {\n",
    "                \"character\": anim.Character.EDGEWORTH,\n",
    "                \"action\": anim.Action.TEXT,\n",
    "                \"emotion\": \"document\",\n",
    "                \"text\": \"The prosecution agrees, your honour.\"\n",
    "            },\n",
    "        ]\n",
    "    },\n",
    "    {\n",
    "        \"location\": anim.Location.COURTROOM_LEFT,\n",
    "        \"scene\": [\n",
    "            {\n",
    "                \"action\": anim.Action.TEXT,\n",
    "                \"character\": anim.Character.PHOENIX,\n",
    "                \"emotion\": \"emo\",\n",
    "                \"colour\": \"#5363A3\",\n",
    "                \"text\": \"(Nooooooooo!)\"\n",
    "            }\n",
    "        ]\n",
    "    }\n",
    "]"
   ]
  },
  {
   "cell_type": "code",
   "execution_count": 5,
   "metadata": {},
   "outputs": [],
   "source": [
    "anim.ace_attorney_anim(scene, output_filename=\"custom.mp4\")"
   ]
  }
 ],
 "metadata": {
  "kernelspec": {
   "display_name": "Python 3",
   "language": "python",
   "name": "python3"
  },
  "language_info": {
   "codemirror_mode": {
    "name": "ipython",
    "version": 3
   },
   "file_extension": ".py",
   "mimetype": "text/x-python",
   "name": "python",
   "nbconvert_exporter": "python",
   "pygments_lexer": "ipython3",
   "version": "3.8.3"
  }
 },
 "nbformat": 4,
 "nbformat_minor": 4
}
